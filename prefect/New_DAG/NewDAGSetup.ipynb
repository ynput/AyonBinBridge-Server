{
 "cells": [
  {
   "cell_type": "markdown",
   "id": "afce65a0-694f-4a9f-8a9c-14a6cc28d45a",
   "metadata": {},
   "source": [
    "# Integration of lakeFS with Prefect\n",
    "\n",
    "## Use Case: Troubleshooting production issues"
   ]
  },
  {
   "cell_type": "markdown",
   "id": "3fb97a7f-1f1c-4c27-a087-6cecd223c281",
   "metadata": {},
   "source": [
    "## Versioning Information"
   ]
  },
  {
   "cell_type": "code",
   "execution_count": null,
   "id": "2ddb7b84-8a18-4779-aaf1-39a313ec83da",
   "metadata": {},
   "outputs": [],
   "source": [
    "newBranch = \"prefect_demo_new_dag\"\n",
    "fileName = \"lakefs_test.csv\"\n",
    "filePath = \"/home/jovyan\"\n",
    "newPath = \"partitioned_data\""
   ]
  },
  {
   "cell_type": "markdown",
   "id": "a88af9f6-85e0-474f-bcc2-fdbca4d87d18",
   "metadata": {},
   "source": [
    "## Run [Common Setup](../Common/CommonSetup.ipynb) tasks here"
   ]
  },
  {
   "cell_type": "code",
   "execution_count": null,
   "id": "31513711-6b40-4baf-9183-6dbb16aec087",
   "metadata": {},
   "outputs": [],
   "source": [
    "%run ./prefect/Common/CommonSetup.ipynb"
   ]
  },
  {
   "cell_type": "markdown",
   "id": "e2de714e-d05d-4c9f-bd97-7584fba0f46b",
   "metadata": {},
   "source": [
    "## Set Prefect variables which are used by the demo workflow"
   ]
  },
  {
   "cell_type": "code",
   "execution_count": null,
   "id": "82d46aeb-e0db-4c16-8e50-1ee1a0bfcf1a",
   "metadata": {},
   "outputs": [],
   "source": [
    "file_name_variable_deletion_request = requests.delete(prefectAPIEndPoint + '/variables/name/file_name')\n",
    "file_name_variable_creation_request = requests.post(prefectAPIEndPoint + '/variables', json={\"name\": \"file_name\", \"value\": fileName})\n",
    "\n",
    "file_path_variable_deletion_request = requests.delete(prefectAPIEndPoint + '/variables/name/file_path')\n",
    "file_path_variable_creation_request = requests.post(prefectAPIEndPoint + '/variables', json={\"name\": \"file_path\", \"value\": filePath})\n",
    "\n",
    "new_path_variable_deletion_request = requests.delete(prefectAPIEndPoint + '/variables/name/new_path')\n",
    "new_path_variable_creation_request = requests.post(prefectAPIEndPoint + '/variables', json={\"name\": \"new_path\", \"value\": newPath})"
   ]
  },
  {
   "cell_type": "markdown",
   "id": "3ffa7bcc-0cc9-4d53-a019-46ba01146900",
   "metadata": {},
   "source": [
    "## Import Python packages"
   ]
  },
  {
   "cell_type": "code",
   "execution_count": null,
   "id": "6dc5ece4-7829-4f40-93e5-4d656c51f113",
   "metadata": {},
   "outputs": [],
   "source": [
    "import sys\n",
    "sys.path.insert(0, './prefect/New_DAG')\n",
    "from lakefs_new_dag import lakefs_new_dag"
   ]
  }
 ],
 "metadata": {
  "kernelspec": {
   "display_name": "Python 3 (ipykernel)",
   "language": "python",
   "name": "python3"
  },
  "language_info": {
   "codemirror_mode": {
    "name": "ipython",
    "version": 3
   },
   "file_extension": ".py",
   "mimetype": "text/x-python",
   "name": "python",
   "nbconvert_exporter": "python",
   "pygments_lexer": "ipython3",
   "version": "3.10.4"
  }
 },
 "nbformat": 4,
 "nbformat_minor": 5
}
