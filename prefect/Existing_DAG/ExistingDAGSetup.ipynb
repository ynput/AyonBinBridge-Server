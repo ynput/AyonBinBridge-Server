{
 "cells": [
  {
   "cell_type": "markdown",
   "id": "9b2c8fa0-1702-411a-b11c-3190679bf31c",
   "metadata": {},
   "source": [
    "# Integration of lakeFS with Prefect\n",
    "\n",
    "**Use Case**: Isolating Prefect flow run and atomic promotion to production"
   ]
  },
  {
   "cell_type": "code",
   "execution_count": null,
   "id": "3d091e5d-5cdd-4bca-bb36-6a1a6e6481cf",
   "metadata": {},
   "outputs": [],
   "source": [
    "newBranch = \"prefect_demo_existing_dag\""
   ]
  },
  {
   "cell_type": "markdown",
   "id": "7a129e87-56c4-401f-9b4b-cc4e7587cf1e",
   "metadata": {},
   "source": [
    "## Run [Common Setup](../Common/CommonSetup.ipynb) tasks here"
   ]
  },
  {
   "cell_type": "code",
   "execution_count": null,
   "id": "b8bfe84c-fce2-4be0-8314-073c6b9aa1d6",
   "metadata": {},
   "outputs": [],
   "source": [
    "%run ./prefect/Common/CommonSetup.ipynb"
   ]
  },
  {
   "cell_type": "markdown",
   "id": "d7a433a4-6d2b-4221-92b4-e44f4c35963a",
   "metadata": {},
   "source": [
    "## Import Python packages"
   ]
  },
  {
   "cell_type": "code",
   "execution_count": null,
   "id": "ec484361-fe0a-4854-924d-a26e682c14cf",
   "metadata": {},
   "outputs": [],
   "source": [
    "import sys\n",
    "sys.path.insert(0, './prefect/Existing_DAG')\n",
    "from lakefs_wrapper_dag import lakefs_wrapper_dag"
   ]
  }
 ],
 "metadata": {
  "kernelspec": {
   "display_name": "Python 3 (ipykernel)",
   "language": "python",
   "name": "python3"
  },
  "language_info": {
   "codemirror_mode": {
    "name": "ipython",
    "version": 3
   },
   "file_extension": ".py",
   "mimetype": "text/x-python",
   "name": "python",
   "nbconvert_exporter": "python",
   "pygments_lexer": "ipython3",
   "version": "3.10.4"
  }
 },
 "nbformat": 4,
 "nbformat_minor": 5
}
